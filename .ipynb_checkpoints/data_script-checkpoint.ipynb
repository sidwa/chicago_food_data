{
 "cells": [
  {
   "cell_type": "code",
   "execution_count": 35,
   "metadata": {},
   "outputs": [],
   "source": [
    "import pandas as pd\n",
    "import numpy as np\n",
    "import csv\n",
    "import matplotlib.pyplot as plt\n",
    "\n",
    "\n",
    "def readfile(filename):\n",
    "\t\"\"\"\n",
    "\t\tReads data from a csv file to create a pandas dataframe\n",
    "\n",
    "\t\t:param filename: name of file to be imported\n",
    "\n",
    "\t\t:return: pandas dataframe containing the data of the given file.\n",
    "\t\"\"\"\n",
    "\tdata = pd.read_csv(filename, delimiter=',', low_memory=False)\n",
    "\treturn data\n",
    "\n",
    "\n",
    "data = readfile(\"food_dat.csv\")\n",
    "data = data.drop(\"Location\", axis = 1)\n",
    "data = data.drop(\"State\", axis = 1)\n",
    "data = data.drop(\"City\", axis = 1)\n",
    "\n",
    "\t"
   ]
  },
  {
   "cell_type": "code",
   "execution_count": 42,
   "metadata": {},
   "outputs": [
    {
     "name": "stdout",
     "output_type": "stream",
     "text": [
      "(181623, 14)\n",
      "16858\n"
     ]
    },
    {
     "data": {
      "text/plain": [
       "0                          Canvass Re-Inspection\n",
       "1                                      Complaint\n",
       "2         Suspected Food Poisoning Re-inspection\n",
       "3                                        License\n",
       "4                          Canvass Re-Inspection\n",
       "5                                        License\n",
       "6                          License Re-Inspection\n",
       "7                                        License\n",
       "8                          License Re-Inspection\n",
       "9                                        Canvass\n",
       "10                                       License\n",
       "11                                       License\n",
       "12                       Complaint Re-Inspection\n",
       "13                                     Complaint\n",
       "14                                       License\n",
       "15                                       License\n",
       "16                                       License\n",
       "17                                       License\n",
       "18                                       License\n",
       "19                       Complaint Re-Inspection\n",
       "20                                     Complaint\n",
       "21                                     Complaint\n",
       "22                                       Canvass\n",
       "23                                       License\n",
       "24                                     Complaint\n",
       "25                         License Re-Inspection\n",
       "26                                       Canvass\n",
       "27                                       Canvass\n",
       "28                         License Re-Inspection\n",
       "29                                       License\n",
       "                           ...                  \n",
       "181593                                   Canvass\n",
       "181594                                   Canvass\n",
       "181595                                 Complaint\n",
       "181596                                   Canvass\n",
       "181597                      Short Form Complaint\n",
       "181598                                 Complaint\n",
       "181599                           Out of Business\n",
       "181600                                 Complaint\n",
       "181601                     License Re-Inspection\n",
       "181602                                 Complaint\n",
       "181603                                   Canvass\n",
       "181604                                   Canvass\n",
       "181605                                 Complaint\n",
       "181606                           Out of Business\n",
       "181607                  Suspected Food Poisoning\n",
       "181608                                   License\n",
       "181609                                   Canvass\n",
       "181610                                   License\n",
       "181611                                   License\n",
       "181612                     License Re-Inspection\n",
       "181613                      Short Form Complaint\n",
       "181614                      Short Form Complaint\n",
       "181615                                 Complaint\n",
       "181616                                   License\n",
       "181617                                   License\n",
       "181618                     License Re-Inspection\n",
       "181619                                   License\n",
       "181620                     License Re-Inspection\n",
       "181621                                 Complaint\n",
       "181622                                   License\n",
       "Name: Inspection Type, Length: 181623, dtype: object"
      ]
     },
     "execution_count": 42,
     "metadata": {},
     "output_type": "execute_result"
    }
   ],
   "source": [
    "print(data.shape)\n",
    "print(data[data[\"Inspection Type\"] == \"Complaint\"].shape[0])\n",
    "\n",
    "\n",
    "\n",
    "\n"
   ]
  },
  {
   "cell_type": "code",
   "execution_count": 57,
   "metadata": {},
   "outputs": [
    {
     "data": {
      "text/plain": [
       "Index(['Restaurant', 'Grocery Store', 'Bakery', 'School', 'Liquor',\n",
       "       'Wholesale', 'Catering', 'TAVERN', 'Long Term Care', 'Hospital'],\n",
       "      dtype='object', name='Facility Type')"
      ]
     },
     "execution_count": 57,
     "metadata": {},
     "output_type": "execute_result"
    }
   ],
   "source": [
    "d = data[data[\"Inspection Type\"] == \"Complaint\"].groupby(\"Facility Type\").count().sort_values([\"DBA Name\"], ascending=False)\n",
    "\n",
    "# get top ten most complaint prone eating places.\n",
    "top_comp = d.index.get_level_values(\"Facility Type\")[0:10]\n",
    "top_comp"
   ]
  },
  {
   "cell_type": "code",
   "execution_count": 71,
   "metadata": {},
   "outputs": [
    {
     "name": "stdout",
     "output_type": "stream",
     "text": [
      "Restaurant\n",
      "Grocery Store\n",
      "Bakery\n",
      "School\n",
      "Liquor\n",
      "Wholesale\n",
      "Catering\n",
      "TAVERN\n",
      "Long Term Care\n",
      "Hospital\n"
     ]
    },
    {
     "data": {
      "text/plain": [
       "[0.30633532750421844,\n",
       " 0.38027162258756253,\n",
       " 0.37790697674418605,\n",
       " 0.35185185185185186,\n",
       " 0.4117647058823529,\n",
       " 0.4861111111111111,\n",
       " 0.375,\n",
       " 0.44642857142857145,\n",
       " 0.42105263157894735,\n",
       " 0.04]"
      ]
     },
     "execution_count": 71,
     "metadata": {},
     "output_type": "execute_result"
    }
   ],
   "source": [
    "y = []\n",
    "for eat_type in top_comp:\n",
    "    print(eat_type)\n",
    "    app = data[(data[\"Inspection Type\"] == \"Complaint\") & (data[\"Facility Type\"] == eat_type) & (data[\"Results\"] == \"Fail\")].count() / \\\n",
    "    data[(data[\"Inspection Type\"] == \"Complaint\") & (data[\"Facility Type\"] == eat_type)].count()\n",
    "    y.append(app[\"Address\"])\n",
    "\n",
    "#data[\"Inspection Type\"]"
   ]
  },
  {
   "cell_type": "code",
   "execution_count": 80,
   "metadata": {},
   "outputs": [
    {
     "data": {
      "text/plain": [
       "[<matplotlib.lines.Line2D at 0x27c81a850b8>]"
      ]
     },
     "execution_count": 80,
     "metadata": {},
     "output_type": "execute_result"
    },
    {
     "data": {
      "image/png": "[encoded data removed]",
      "text/plain": [
       "<Figure size 1080x720 with 1 Axes>"
      ]
     },
     "metadata": {
      "needs_background": "light"
     },
     "output_type": "display_data"
    }
   ],
   "source": [
    "plt.figure(figsize=(15,10))\n",
    "plt.xticks(range(1,11), top_comp)\n",
    "plt.ylabel(\"Inspection fails per Inspection due to complaints\")\n",
    "plt.xlabel(\"Eatery place type\")\n",
    "plt.plot(range(1,11), y)"
   ]
  },
  {
   "cell_type": "code",
   "execution_count": null,
   "metadata": {},
   "outputs": [],
   "source": []
  }
 ],
 "metadata": {
  "kernelspec": {
   "display_name": "Python 3",
   "language": "python",
   "name": "python3"
  },
  "language_info": {
   "codemirror_mode": {
    "name": "ipython",
    "version": 3
   },
   "file_extension": ".py",
   "mimetype": "text/x-python",
   "name": "python",
   "nbconvert_exporter": "python",
   "pygments_lexer": "ipython3",
   "version": "3.7.1"
  }
 },
 "nbformat": 4,
 "nbformat_minor": 2
}
