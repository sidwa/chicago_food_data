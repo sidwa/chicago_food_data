{
 "cells": [
  {
   "cell_type": "code",
   "execution_count": 3,
   "metadata": {},
   "outputs": [],
   "source": [
    "import pandas as pd\n",
    "import numpy as np\n",
    "import csv\n",
    "\n",
    "\n",
    "def readfile(filename):\n",
    "\t\"\"\"\n",
    "\t\tReads data from a csv file to create a pandas dataframe\n",
    "\n",
    "\t\t:param filename: name of file to be imported\n",
    "\n",
    "\t\t:return: pandas dataframe containing the data of the given file.\n",
    "\t\"\"\"\n",
    "\tdata = pd.read_csv(filename, delimiter=',', low_memory=False)\n",
    "\treturn data\n",
    "\n",
    "\n",
    "data = readfile(\"food_dat.csv\")\n",
    "\n",
    "\t"
   ]
  },
  {
   "cell_type": "code",
   "execution_count": 4,
   "metadata": {},
   "outputs": [
    {
     "name": "stdout",
     "output_type": "stream",
     "text": [
      "(181623, 17)\n",
      "16858\n"
     ]
    }
   ],
   "source": [
    "print(data.shape)\n",
    "print(data[data[\"Inspection Type\"] == \"Complaint\"].shape[0])\n",
    "\n",
    "\n",
    "\n",
    "\n",
    "\n"
   ]
  },
  {
   "cell_type": "code",
   "execution_count": null,
   "metadata": {},
   "outputs": [],
   "source": []
  }
 ],
 "metadata": {
  "kernelspec": {
   "display_name": "Python 3",
   "language": "python",
   "name": "python3"
  },
  "language_info": {
   "codemirror_mode": {
    "name": "ipython",
    "version": 3
   },
   "file_extension": ".py",
   "mimetype": "text/x-python",
   "name": "python",
   "nbconvert_exporter": "python",
   "pygments_lexer": "ipython3",
   "version": "3.7.1"
  }
 },
 "nbformat": 4,
 "nbformat_minor": 2
}
